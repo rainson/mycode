{
 "cells": [
  {
   "cell_type": "markdown",
   "metadata": {
    "collapsed": true
   },
   "source": [
    "This is a mdp(Markov decision process) model for simple grid world from Ch.17 of [Artificial Intelligence:A Modern Approach](http://aima.cs.berkeley.edu/)."
   ]
  },
  {
   "cell_type": "code",
   "execution_count": 139,
   "metadata": {
    "collapsed": true
   },
   "outputs": [],
   "source": [
    "%matplotlib inline\n",
    "import matplotlib.pylab as plt\n",
    "import random\n",
    "import pandas as pd\n",
    "import numpy as np"
   ]
  },
  {
   "cell_type": "code",
   "execution_count": 121,
   "metadata": {
    "collapsed": false
   },
   "outputs": [],
   "source": [
    "##模型定义 4x3的网格世界，世界状态集合\n",
    "all_states = {(i,j) for i in range(4) for j in range(3) if not (i==1 and j==1) }\n",
    "end_states = {(3,1),(3,2)}\n",
    "move_states = all_states-end_states\n",
    "actions = [\"U\",\"D\",\"L\",\"R\"]\n",
    "common_reward = -0.04\n",
    "rewards = {state:common_reward for state in move_states}\n",
    "rewards[(3,2)] = 1.0 ## positive end state \n",
    "rewards[(3,1)] = -1.0 ## negative end state\n",
    "right_acion_pro = 0.8\n",
    "wrong_action_pro = 0.1\n",
    "policy = dict()"
   ]
  },
  {
   "cell_type": "code",
   "execution_count": 151,
   "metadata": {
    "collapsed": false
   },
   "outputs": [
    {
     "data": {
      "image/png": "[encoded data removed]",
      "text/plain": [
       "<matplotlib.figure.Figure at 0x7fc8558829d0>"
      ]
     },
     "metadata": {},
     "output_type": "display_data"
    }
   ],
   "source": [
    "### utility 是在当前状态下未来奖赏的期望值\n",
    "utility = np.zeros((4,3))\n",
    "#初始化\n",
    "for idx, value in rewards.items():\n",
    "    utility[idx] = value    \n",
    "def next_state(state, action):\n",
    "    i, j = state\n",
    "    if action == \"U\" :\n",
    "        if j == 2 or (i == 1 and j == 0):\n",
    "            _next_state = (i,j)\n",
    "        else:\n",
    "            _next_state = (i, j+1)\n",
    "    if action == \"D\" :\n",
    "        if j == 0 or (i == 1 and j == 2):\n",
    "            _next_state = (i,j)\n",
    "        else:\n",
    "            _next_state = (i, j-1)\n",
    "    if action == \"L\" :\n",
    "        if i == 0 or (i == 2 and j == 1):\n",
    "            _next_state = (i,j)\n",
    "        else:\n",
    "            _next_state = (i-1, j)\n",
    "    if action == \"R\" :\n",
    "        if i == 3 or (i == 0 and j == 1):\n",
    "            _next_state = (i,j)\n",
    "        else:\n",
    "            _next_state = (i+1,j)\n",
    "    \n",
    "    return _next_state\n",
    "            \n",
    "    \n",
    "                \n",
    "# 迭代\n",
    "iter_num = 30\n",
    "data = []\n",
    "for i in range(iter_num):\n",
    "    for state in move_states:\n",
    "        #print state\n",
    "        Uu = 0.8*utility[next_state(state, \"U\")]  + 0.1*utility[ next_state(state, \"L\")]  + 0.1*utility[ next_state(state, \"R\") ]\n",
    "        Ud = 0.8*utility[next_state(state, \"D\")] + 0.1*utility[next_state(state, \"L\")]+ 0.1*utility[next_state(state, \"R\")]\n",
    "        Ul = 0.8*utility[next_state(state, \"L\")] + 0.1*utility[next_state(state, \"D\")] + 0.1*utility[next_state(state, \"U\")]\n",
    "        Ur = 0.8*utility[next_state(state, \"R\")] + 0.1*utility[next_state(state, \"D\")] + 0.1*utility[next_state(state, \"U\")]\n",
    "        Us = [Uu,Ud,Ul,Ur]\n",
    "        Um = max(Us)\n",
    "        ## 策略更新\n",
    "        policy[state] = actions[Us.index(Um)]\n",
    "        ## utility价值更新\n",
    "        utility[state] = rewards[state] + Um\n",
    "        \n",
    "    data.append([utility[3,2], utility[2,2], utility[0,0],utility[2,0],utility[3,0],])\n",
    "     \n",
    "\n",
    "plt.figure()    \n",
    "plt.plot(range(iter_num), data)\n",
    "plt.text()\n",
    "plt.ylim(-1.1,1.1)\n",
    "plt.ylabel(\"Utility Estemation\")\n",
    "plt.xlabel(\"iter_numer\")\n",
    "plt.show()"
   ]
  },
  {
   "cell_type": "code",
   "execution_count": 152,
   "metadata": {
    "collapsed": false
   },
   "outputs": [
    {
     "data": {
      "text/plain": [
       "{(0, 0): 'U',\n",
       " (0, 1): 'U',\n",
       " (0, 2): 'R',\n",
       " (1, 0): 'L',\n",
       " (1, 2): 'R',\n",
       " (2, 0): 'L',\n",
       " (2, 1): 'U',\n",
       " (2, 2): 'R',\n",
       " (3, 0): 'L'}"
      ]
     },
     "execution_count": 152,
     "metadata": {},
     "output_type": "execute_result"
    }
   ],
   "source": [
    "policy"
   ]
  }
 ],
 "metadata": {
  "kernelspec": {
   "display_name": "Python 2",
   "language": "python",
   "name": "python2"
  },
  "language_info": {
   "codemirror_mode": {
    "name": "ipython",
    "version": 2
   },
   "file_extension": ".py",
   "mimetype": "text/x-python",
   "name": "python",
   "nbconvert_exporter": "python",
   "pygments_lexer": "ipython2",
   "version": "2.7.6"
  }
 },
 "nbformat": 4,
 "nbformat_minor": 1
}
